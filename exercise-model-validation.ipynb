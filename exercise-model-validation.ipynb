{
 "cells": [
  {
   "cell_type": "markdown",
   "id": "4646c965",
   "metadata": {
    "papermill": {
     "duration": 0.004598,
     "end_time": "2023-06-08T20:22:22.603997",
     "exception": false,
     "start_time": "2023-06-08T20:22:22.599399",
     "status": "completed"
    },
    "tags": []
   },
   "source": [
    "**This notebook is an exercise in the [Introduction to Machine Learning](https://www.kaggle.com/learn/intro-to-machine-learning) course.  You can reference the tutorial at [this link](https://www.kaggle.com/dansbecker/model-validation).**\n",
    "\n",
    "---\n"
   ]
  },
  {
   "cell_type": "markdown",
   "id": "305b62da",
   "metadata": {
    "papermill": {
     "duration": 0.003327,
     "end_time": "2023-06-08T20:22:22.612011",
     "exception": false,
     "start_time": "2023-06-08T20:22:22.608684",
     "status": "completed"
    },
    "tags": []
   },
   "source": [
    "## Recap\n",
    "You've built a model. In this exercise you will test how good your model is.\n",
    "\n",
    "Run the cell below to set up your coding environment where the previous exercise left off."
   ]
  },
  {
   "cell_type": "code",
   "execution_count": 1,
   "id": "1f18f16c",
   "metadata": {
    "execution": {
     "iopub.execute_input": "2023-06-08T20:22:22.620923Z",
     "iopub.status.busy": "2023-06-08T20:22:22.620463Z",
     "iopub.status.idle": "2023-06-08T20:22:24.585250Z",
     "shell.execute_reply": "2023-06-08T20:22:24.583771Z"
    },
    "papermill": {
     "duration": 1.972502,
     "end_time": "2023-06-08T20:22:24.588006",
     "exception": false,
     "start_time": "2023-06-08T20:22:22.615504",
     "status": "completed"
    },
    "tags": []
   },
   "outputs": [
    {
     "name": "stdout",
     "output_type": "stream",
     "text": [
      "First in-sample predictions: [208500. 181500. 223500. 140000. 250000.]\n",
      "Actual target values for those homes: [208500, 181500, 223500, 140000, 250000]\n",
      "Setup Complete\n"
     ]
    }
   ],
   "source": [
    "# Code you have previously used to load data\n",
    "import pandas as pd\n",
    "from sklearn.tree import DecisionTreeRegressor\n",
    "\n",
    "# Path of the file to read\n",
    "iowa_file_path = '../input/home-data-for-ml-course/train.csv'\n",
    "\n",
    "home_data = pd.read_csv(iowa_file_path)\n",
    "y = home_data.SalePrice\n",
    "feature_columns = ['LotArea', 'YearBuilt', '1stFlrSF', '2ndFlrSF', 'FullBath', 'BedroomAbvGr', 'TotRmsAbvGrd']\n",
    "X = home_data[feature_columns]\n",
    "\n",
    "# Specify Model\n",
    "iowa_model = DecisionTreeRegressor()\n",
    "# Fit Model\n",
    "iowa_model.fit(X, y)\n",
    "\n",
    "print(\"First in-sample predictions:\", iowa_model.predict(X.head()))\n",
    "print(\"Actual target values for those homes:\", y.head().tolist())\n",
    "\n",
    "# Set up code checking\n",
    "from learntools.core import binder\n",
    "binder.bind(globals())\n",
    "from learntools.machine_learning.ex4 import *\n",
    "print(\"Setup Complete\")"
   ]
  },
  {
   "cell_type": "markdown",
   "id": "4e325e71",
   "metadata": {
    "papermill": {
     "duration": 0.003615,
     "end_time": "2023-06-08T20:22:24.595832",
     "exception": false,
     "start_time": "2023-06-08T20:22:24.592217",
     "status": "completed"
    },
    "tags": []
   },
   "source": [
    "# Exercises\n",
    "\n",
    "## Step 1: Split Your Data\n",
    "Use the `train_test_split` function to split up your data.\n",
    "\n",
    "Give it the argument `random_state=1` so the `check` functions know what to expect when verifying your code.\n",
    "\n",
    "Recall, your features are loaded in the DataFrame **X** and your target is loaded in **y**.\n"
   ]
  },
  {
   "cell_type": "code",
   "execution_count": 2,
   "id": "54c67d4f",
   "metadata": {
    "execution": {
     "iopub.execute_input": "2023-06-08T20:22:24.605470Z",
     "iopub.status.busy": "2023-06-08T20:22:24.605093Z",
     "iopub.status.idle": "2023-06-08T20:22:24.621167Z",
     "shell.execute_reply": "2023-06-08T20:22:24.619738Z"
    },
    "papermill": {
     "duration": 0.023221,
     "end_time": "2023-06-08T20:22:24.623040",
     "exception": false,
     "start_time": "2023-06-08T20:22:24.599819",
     "status": "completed"
    },
    "tags": []
   },
   "outputs": [
    {
     "data": {
      "application/javascript": [
       "parent.postMessage({\"jupyterEvent\": \"custom.exercise_interaction\", \"data\": {\"outcomeType\": 1, \"valueTowardsCompletion\": 0.25, \"interactionType\": 1, \"questionType\": 2, \"questionId\": \"1_SplitData\", \"learnToolsVersion\": \"0.3.4\", \"failureMessage\": \"\", \"exceptionClass\": \"\", \"trace\": \"\"}}, \"*\")"
      ],
      "text/plain": [
       "<IPython.core.display.Javascript object>"
      ]
     },
     "metadata": {},
     "output_type": "display_data"
    },
    {
     "data": {
      "text/markdown": [
       "<span style=\"color:#33cc33\">Correct</span>"
      ],
      "text/plain": [
       "Correct"
      ]
     },
     "metadata": {},
     "output_type": "display_data"
    }
   ],
   "source": [
    "# Import the train_test_split function and uncomment\n",
    "from sklearn.model_selection import train_test_split\n",
    "\n",
    "# fill in and uncomment\n",
    "train_X, val_X, train_y, val_y = train_test_split(X, y, random_state = 1)\n",
    "\n",
    "# Check your answer\n",
    "step_1.check()"
   ]
  },
  {
   "cell_type": "code",
   "execution_count": 3,
   "id": "4dea4449",
   "metadata": {
    "execution": {
     "iopub.execute_input": "2023-06-08T20:22:24.632362Z",
     "iopub.status.busy": "2023-06-08T20:22:24.632052Z",
     "iopub.status.idle": "2023-06-08T20:22:24.636551Z",
     "shell.execute_reply": "2023-06-08T20:22:24.635572Z"
    },
    "papermill": {
     "duration": 0.012142,
     "end_time": "2023-06-08T20:22:24.639201",
     "exception": false,
     "start_time": "2023-06-08T20:22:24.627059",
     "status": "completed"
    },
    "tags": []
   },
   "outputs": [],
   "source": [
    "# The lines below will show you a hint or the solution.\n",
    "# step_1.hint() \n",
    "# step_1.solution()\n"
   ]
  },
  {
   "cell_type": "markdown",
   "id": "356bb520",
   "metadata": {
    "papermill": {
     "duration": 0.003983,
     "end_time": "2023-06-08T20:22:24.649273",
     "exception": false,
     "start_time": "2023-06-08T20:22:24.645290",
     "status": "completed"
    },
    "tags": []
   },
   "source": [
    "## Step 2: Specify and Fit the Model\n",
    "\n",
    "Create a `DecisionTreeRegressor` model and fit it to the relevant data.\n",
    "Set `random_state` to 1 again when creating the model."
   ]
  },
  {
   "cell_type": "code",
   "execution_count": 4,
   "id": "c7758705",
   "metadata": {
    "execution": {
     "iopub.execute_input": "2023-06-08T20:22:24.659322Z",
     "iopub.status.busy": "2023-06-08T20:22:24.658984Z",
     "iopub.status.idle": "2023-06-08T20:22:24.682526Z",
     "shell.execute_reply": "2023-06-08T20:22:24.681703Z"
    },
    "papermill": {
     "duration": 0.03058,
     "end_time": "2023-06-08T20:22:24.684355",
     "exception": false,
     "start_time": "2023-06-08T20:22:24.653775",
     "status": "completed"
    },
    "tags": []
   },
   "outputs": [
    {
     "name": "stdout",
     "output_type": "stream",
     "text": [
      "[186500. 184000. 130000.  92000. 164500. 220000. 335000. 144152. 215000.\n",
      " 262000.]\n",
      "[186500. 184000. 130000.  92000. 164500. 220000. 335000. 144152. 215000.\n",
      " 262000.]\n"
     ]
    },
    {
     "data": {
      "application/javascript": [
       "parent.postMessage({\"jupyterEvent\": \"custom.exercise_interaction\", \"data\": {\"outcomeType\": 1, \"valueTowardsCompletion\": 0.25, \"interactionType\": 1, \"questionType\": 2, \"questionId\": \"2_FitModelWithTrain\", \"learnToolsVersion\": \"0.3.4\", \"failureMessage\": \"\", \"exceptionClass\": \"\", \"trace\": \"\"}}, \"*\")"
      ],
      "text/plain": [
       "<IPython.core.display.Javascript object>"
      ]
     },
     "metadata": {},
     "output_type": "display_data"
    },
    {
     "data": {
      "text/markdown": [
       "<span style=\"color:#33cc33\">Correct</span>"
      ],
      "text/plain": [
       "Correct"
      ]
     },
     "metadata": {},
     "output_type": "display_data"
    }
   ],
   "source": [
    "# You imported DecisionTreeRegressor in your last exercise\n",
    "# and that code has been copied to the setup code above. So, no need to\n",
    "# import it again\n",
    "\n",
    "# Specify the model\n",
    "iowa_model = DecisionTreeRegressor(random_state=1)\n",
    "\n",
    "# Fit iowa_model with the training data.\n",
    "iowa_model.fit(train_X, train_y)\n",
    "\n",
    "# Check your answer\n",
    "step_2.check()"
   ]
  },
  {
   "cell_type": "code",
   "execution_count": 5,
   "id": "e72b4c17",
   "metadata": {
    "execution": {
     "iopub.execute_input": "2023-06-08T20:22:24.695346Z",
     "iopub.status.busy": "2023-06-08T20:22:24.694989Z",
     "iopub.status.idle": "2023-06-08T20:22:24.698881Z",
     "shell.execute_reply": "2023-06-08T20:22:24.697857Z"
    },
    "papermill": {
     "duration": 0.011849,
     "end_time": "2023-06-08T20:22:24.700842",
     "exception": false,
     "start_time": "2023-06-08T20:22:24.688993",
     "status": "completed"
    },
    "tags": []
   },
   "outputs": [],
   "source": [
    "# step_2.hint()\n",
    "#step_2.solution()"
   ]
  },
  {
   "cell_type": "markdown",
   "id": "d40cf241",
   "metadata": {
    "papermill": {
     "duration": 0.004142,
     "end_time": "2023-06-08T20:22:24.709558",
     "exception": false,
     "start_time": "2023-06-08T20:22:24.705416",
     "status": "completed"
    },
    "tags": []
   },
   "source": [
    "## Step 3: Make Predictions with Validation data\n"
   ]
  },
  {
   "cell_type": "code",
   "execution_count": 6,
   "id": "96cadbae",
   "metadata": {
    "execution": {
     "iopub.execute_input": "2023-06-08T20:22:24.719871Z",
     "iopub.status.busy": "2023-06-08T20:22:24.719476Z",
     "iopub.status.idle": "2023-06-08T20:22:24.728928Z",
     "shell.execute_reply": "2023-06-08T20:22:24.727787Z"
    },
    "papermill": {
     "duration": 0.016643,
     "end_time": "2023-06-08T20:22:24.730706",
     "exception": false,
     "start_time": "2023-06-08T20:22:24.714063",
     "status": "completed"
    },
    "tags": []
   },
   "outputs": [
    {
     "data": {
      "application/javascript": [
       "parent.postMessage({\"jupyterEvent\": \"custom.exercise_interaction\", \"data\": {\"outcomeType\": 1, \"valueTowardsCompletion\": 0.25, \"interactionType\": 1, \"questionType\": 2, \"questionId\": \"3_ValPreds\", \"learnToolsVersion\": \"0.3.4\", \"failureMessage\": \"\", \"exceptionClass\": \"\", \"trace\": \"\"}}, \"*\")"
      ],
      "text/plain": [
       "<IPython.core.display.Javascript object>"
      ]
     },
     "metadata": {},
     "output_type": "display_data"
    },
    {
     "data": {
      "text/markdown": [
       "<span style=\"color:#33cc33\">Correct</span>"
      ],
      "text/plain": [
       "Correct"
      ]
     },
     "metadata": {},
     "output_type": "display_data"
    }
   ],
   "source": [
    "# Predict with all validation observations\n",
    "val_predictions = iowa_model.predict(val_X)\n",
    "\n",
    "# Check your answer\n",
    "step_3.check()"
   ]
  },
  {
   "cell_type": "code",
   "execution_count": 7,
   "id": "ec1729b6",
   "metadata": {
    "execution": {
     "iopub.execute_input": "2023-06-08T20:22:24.742097Z",
     "iopub.status.busy": "2023-06-08T20:22:24.741142Z",
     "iopub.status.idle": "2023-06-08T20:22:24.746109Z",
     "shell.execute_reply": "2023-06-08T20:22:24.745072Z"
    },
    "papermill": {
     "duration": 0.012744,
     "end_time": "2023-06-08T20:22:24.748096",
     "exception": false,
     "start_time": "2023-06-08T20:22:24.735352",
     "status": "completed"
    },
    "tags": []
   },
   "outputs": [],
   "source": [
    "# step_3.hint()\n",
    "# step_3.solution()"
   ]
  },
  {
   "cell_type": "markdown",
   "id": "d9077406",
   "metadata": {
    "papermill": {
     "duration": 0.004456,
     "end_time": "2023-06-08T20:22:24.757552",
     "exception": false,
     "start_time": "2023-06-08T20:22:24.753096",
     "status": "completed"
    },
    "tags": []
   },
   "source": [
    "Inspect your predictions and actual values from validation data."
   ]
  },
  {
   "cell_type": "code",
   "execution_count": 8,
   "id": "66c84c0b",
   "metadata": {
    "execution": {
     "iopub.execute_input": "2023-06-08T20:22:24.768743Z",
     "iopub.status.busy": "2023-06-08T20:22:24.768111Z",
     "iopub.status.idle": "2023-06-08T20:22:24.774364Z",
     "shell.execute_reply": "2023-06-08T20:22:24.773197Z"
    },
    "papermill": {
     "duration": 0.014022,
     "end_time": "2023-06-08T20:22:24.776147",
     "exception": false,
     "start_time": "2023-06-08T20:22:24.762125",
     "status": "completed"
    },
    "tags": []
   },
   "outputs": [
    {
     "name": "stdout",
     "output_type": "stream",
     "text": [
      "[186500. 184000. 130000.  92000. 164500.]\n",
      "258     231500\n",
      "267     179500\n",
      "288     122000\n",
      "649      84500\n",
      "1233    142000\n",
      "Name: SalePrice, dtype: int64\n"
     ]
    }
   ],
   "source": [
    "# print the top few validation predictions\n",
    "print(val_predictions[:5])\n",
    "# print the top few actual prices from validation data\n",
    "print(val_y.head())"
   ]
  },
  {
   "cell_type": "markdown",
   "id": "254b60b7",
   "metadata": {
    "papermill": {
     "duration": 0.004258,
     "end_time": "2023-06-08T20:22:24.785233",
     "exception": false,
     "start_time": "2023-06-08T20:22:24.780975",
     "status": "completed"
    },
    "tags": []
   },
   "source": [
    "What do you notice that is different from what you saw with in-sample predictions (which are printed after the top code cell in this page).\n",
    "\n",
    "Do you remember why validation predictions differ from in-sample (or training) predictions? This is an important idea from the last lesson.\n",
    "\n",
    "## Step 4: Calculate the Mean Absolute Error in Validation Data\n"
   ]
  },
  {
   "cell_type": "code",
   "execution_count": 9,
   "id": "9df47cbf",
   "metadata": {
    "execution": {
     "iopub.execute_input": "2023-06-08T20:22:24.796541Z",
     "iopub.status.busy": "2023-06-08T20:22:24.795523Z",
     "iopub.status.idle": "2023-06-08T20:22:24.803987Z",
     "shell.execute_reply": "2023-06-08T20:22:24.803161Z"
    },
    "papermill": {
     "duration": 0.016016,
     "end_time": "2023-06-08T20:22:24.805730",
     "exception": false,
     "start_time": "2023-06-08T20:22:24.789714",
     "status": "completed"
    },
    "tags": []
   },
   "outputs": [
    {
     "name": "stdout",
     "output_type": "stream",
     "text": [
      "29652.931506849316\n"
     ]
    },
    {
     "data": {
      "application/javascript": [
       "parent.postMessage({\"jupyterEvent\": \"custom.exercise_interaction\", \"data\": {\"outcomeType\": 1, \"valueTowardsCompletion\": 0.25, \"interactionType\": 1, \"questionType\": 1, \"questionId\": \"4_MAE\", \"learnToolsVersion\": \"0.3.4\", \"failureMessage\": \"\", \"exceptionClass\": \"\", \"trace\": \"\"}}, \"*\")"
      ],
      "text/plain": [
       "<IPython.core.display.Javascript object>"
      ]
     },
     "metadata": {},
     "output_type": "display_data"
    },
    {
     "data": {
      "text/markdown": [
       "<span style=\"color:#33cc33\">Correct</span>"
      ],
      "text/plain": [
       "Correct"
      ]
     },
     "metadata": {},
     "output_type": "display_data"
    }
   ],
   "source": [
    "from sklearn.metrics import mean_absolute_error\n",
    "val_mae = mean_absolute_error(val_y, val_predictions)\n",
    "\n",
    "# uncomment following line to see the validation_mae\n",
    "print(val_mae)\n",
    "\n",
    "# Check your answer\n",
    "step_4.check()"
   ]
  },
  {
   "cell_type": "code",
   "execution_count": 10,
   "id": "6d7e72b2",
   "metadata": {
    "execution": {
     "iopub.execute_input": "2023-06-08T20:22:24.817358Z",
     "iopub.status.busy": "2023-06-08T20:22:24.816994Z",
     "iopub.status.idle": "2023-06-08T20:22:24.821049Z",
     "shell.execute_reply": "2023-06-08T20:22:24.820020Z"
    },
    "papermill": {
     "duration": 0.011879,
     "end_time": "2023-06-08T20:22:24.822742",
     "exception": false,
     "start_time": "2023-06-08T20:22:24.810863",
     "status": "completed"
    },
    "tags": []
   },
   "outputs": [],
   "source": [
    "# step_4.hint()\n",
    "# step_4.solution()"
   ]
  },
  {
   "cell_type": "markdown",
   "id": "790c5f57",
   "metadata": {
    "papermill": {
     "duration": 0.004713,
     "end_time": "2023-06-08T20:22:24.832792",
     "exception": false,
     "start_time": "2023-06-08T20:22:24.828079",
     "status": "completed"
    },
    "tags": []
   },
   "source": [
    "Is that MAE good?  There isn't a general rule for what values are good that applies across applications. But you'll see how to use (and improve) this number in the next step.\n",
    "\n",
    "# Keep Going\n",
    "\n",
    "You are ready for **[Underfitting and Overfitting](https://www.kaggle.com/dansbecker/underfitting-and-overfitting).**\n"
   ]
  },
  {
   "cell_type": "markdown",
   "id": "461efe86",
   "metadata": {
    "papermill": {
     "duration": 0.004622,
     "end_time": "2023-06-08T20:22:24.842578",
     "exception": false,
     "start_time": "2023-06-08T20:22:24.837956",
     "status": "completed"
    },
    "tags": []
   },
   "source": [
    "---\n",
    "\n",
    "\n",
    "\n",
    "\n",
    "*Have questions or comments? Visit the [course discussion forum](https://www.kaggle.com/learn/intro-to-machine-learning/discussion) to chat with other learners.*"
   ]
  }
 ],
 "metadata": {
  "kernelspec": {
   "display_name": "Python 3",
   "language": "python",
   "name": "python3"
  },
  "language_info": {
   "codemirror_mode": {
    "name": "ipython",
    "version": 3
   },
   "file_extension": ".py",
   "mimetype": "text/x-python",
   "name": "python",
   "nbconvert_exporter": "python",
   "pygments_lexer": "ipython3",
   "version": "3.10.10"
  },
  "papermill": {
   "default_parameters": {},
   "duration": 13.239754,
   "end_time": "2023-06-08T20:22:25.870830",
   "environment_variables": {},
   "exception": null,
   "input_path": "__notebook__.ipynb",
   "output_path": "__notebook__.ipynb",
   "parameters": {},
   "start_time": "2023-06-08T20:22:12.631076",
   "version": "2.4.0"
  }
 },
 "nbformat": 4,
 "nbformat_minor": 5
}
