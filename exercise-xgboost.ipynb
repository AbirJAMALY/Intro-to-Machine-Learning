{
 "cells": [
  {
   "cell_type": "markdown",
   "id": "2073de7c",
   "metadata": {
    "papermill": {
     "duration": 0.00546,
     "end_time": "2023-06-08T23:58:40.317671",
     "exception": false,
     "start_time": "2023-06-08T23:58:40.312211",
     "status": "completed"
    },
    "tags": []
   },
   "source": [
    "**This notebook is an exercise in the [Intermediate Machine Learning](https://www.kaggle.com/learn/intermediate-machine-learning) course.  You can reference the tutorial at [this link](https://www.kaggle.com/alexisbcook/xgboost).**\n",
    "\n",
    "---\n"
   ]
  },
  {
   "cell_type": "markdown",
   "id": "3b99f354",
   "metadata": {
    "papermill": {
     "duration": 0.00469,
     "end_time": "2023-06-08T23:58:40.327468",
     "exception": false,
     "start_time": "2023-06-08T23:58:40.322778",
     "status": "completed"
    },
    "tags": []
   },
   "source": [
    "In this exercise, you will use your new knowledge to train a model with **gradient boosting**.\n",
    "\n",
    "# Setup\n",
    "\n",
    "The questions below will give you feedback on your work. Run the following cell to set up the feedback system."
   ]
  },
  {
   "cell_type": "code",
   "execution_count": 1,
   "id": "8d729960",
   "metadata": {
    "execution": {
     "iopub.execute_input": "2023-06-08T23:58:40.339241Z",
     "iopub.status.busy": "2023-06-08T23:58:40.338831Z",
     "iopub.status.idle": "2023-06-08T23:58:42.995691Z",
     "shell.execute_reply": "2023-06-08T23:58:42.994554Z"
    },
    "papermill": {
     "duration": 2.665901,
     "end_time": "2023-06-08T23:58:42.998414",
     "exception": false,
     "start_time": "2023-06-08T23:58:40.332513",
     "status": "completed"
    },
    "tags": []
   },
   "outputs": [
    {
     "name": "stdout",
     "output_type": "stream",
     "text": [
      "Setup Complete\n"
     ]
    }
   ],
   "source": [
    "# Set up code checking\n",
    "import os\n",
    "if not os.path.exists(\"../input/train.csv\"):\n",
    "    os.symlink(\"../input/home-data-for-ml-course/train.csv\", \"../input/train.csv\")  \n",
    "    os.symlink(\"../input/home-data-for-ml-course/test.csv\", \"../input/test.csv\") \n",
    "from learntools.core import binder\n",
    "binder.bind(globals())\n",
    "from learntools.ml_intermediate.ex6 import *\n",
    "print(\"Setup Complete\")"
   ]
  },
  {
   "cell_type": "markdown",
   "id": "87caf6a7",
   "metadata": {
    "papermill": {
     "duration": 0.004853,
     "end_time": "2023-06-08T23:58:43.008284",
     "exception": false,
     "start_time": "2023-06-08T23:58:43.003431",
     "status": "completed"
    },
    "tags": []
   },
   "source": [
    "You will work with the [Housing Prices Competition for Kaggle Learn Users](https://www.kaggle.com/c/home-data-for-ml-course) dataset from the previous exercise. \n",
    "\n",
    "![Ames Housing dataset image](https://storage.googleapis.com/kaggle-media/learn/images/lTJVG4e.png)\n",
    "\n",
    "Run the next code cell without changes to load the training and validation sets in `X_train`, `X_valid`, `y_train`, and `y_valid`.  The test set is loaded in `X_test`."
   ]
  },
  {
   "cell_type": "code",
   "execution_count": 2,
   "id": "189829ec",
   "metadata": {
    "execution": {
     "iopub.execute_input": "2023-06-08T23:58:43.020688Z",
     "iopub.status.busy": "2023-06-08T23:58:43.019868Z",
     "iopub.status.idle": "2023-06-08T23:58:43.194492Z",
     "shell.execute_reply": "2023-06-08T23:58:43.193308Z"
    },
    "papermill": {
     "duration": 0.18419,
     "end_time": "2023-06-08T23:58:43.197509",
     "exception": false,
     "start_time": "2023-06-08T23:58:43.013319",
     "status": "completed"
    },
    "tags": []
   },
   "outputs": [],
   "source": [
    "import pandas as pd\n",
    "from sklearn.model_selection import train_test_split\n",
    "\n",
    "# Read the data\n",
    "X = pd.read_csv('../input/train.csv', index_col='Id')\n",
    "X_test_full = pd.read_csv('../input/test.csv', index_col='Id')\n",
    "\n",
    "# Remove rows with missing target, separate target from predictors\n",
    "X.dropna(axis=0, subset=['SalePrice'], inplace=True)\n",
    "y = X.SalePrice              \n",
    "X.drop(['SalePrice'], axis=1, inplace=True)\n",
    "\n",
    "# Break off validation set from training data\n",
    "X_train_full, X_valid_full, y_train, y_valid = train_test_split(X, y, train_size=0.8, test_size=0.2,\n",
    "                                                                random_state=0)\n",
    "\n",
    "# \"Cardinality\" means the number of unique values in a column\n",
    "# Select categorical columns with relatively low cardinality (convenient but arbitrary)\n",
    "low_cardinality_cols = [cname for cname in X_train_full.columns if X_train_full[cname].nunique() < 10 and \n",
    "                        X_train_full[cname].dtype == \"object\"]\n",
    "\n",
    "# Select numeric columns\n",
    "numeric_cols = [cname for cname in X_train_full.columns if X_train_full[cname].dtype in ['int64', 'float64']]\n",
    "\n",
    "# Keep selected columns only\n",
    "my_cols = low_cardinality_cols + numeric_cols\n",
    "X_train = X_train_full[my_cols].copy()\n",
    "X_valid = X_valid_full[my_cols].copy()\n",
    "X_test = X_test_full[my_cols].copy()\n",
    "\n",
    "# One-hot encode the data (to shorten the code, we use pandas)\n",
    "X_train = pd.get_dummies(X_train)\n",
    "X_valid = pd.get_dummies(X_valid)\n",
    "X_test = pd.get_dummies(X_test)\n",
    "X_train, X_valid = X_train.align(X_valid, join='left', axis=1)\n",
    "X_train, X_test = X_train.align(X_test, join='left', axis=1)"
   ]
  },
  {
   "cell_type": "markdown",
   "id": "eb283f65",
   "metadata": {
    "papermill": {
     "duration": 0.006298,
     "end_time": "2023-06-08T23:58:43.208906",
     "exception": false,
     "start_time": "2023-06-08T23:58:43.202608",
     "status": "completed"
    },
    "tags": []
   },
   "source": [
    "# Step 1: Build model\n",
    "\n",
    "### Part A\n",
    "\n",
    "In this step, you'll build and train your first model with gradient boosting.\n",
    "\n",
    "- Begin by setting `my_model_1` to an XGBoost model.  Use the [XGBRegressor](https://xgboost.readthedocs.io/en/latest/python/python_api.html#xgboost.XGBRegressor) class, and set the random seed to 0 (`random_state=0`).  **Leave all other parameters as default.**\n",
    "- Then, fit the model to the training data in `X_train` and `y_train`."
   ]
  },
  {
   "cell_type": "code",
   "execution_count": 3,
   "id": "621b99d3",
   "metadata": {
    "execution": {
     "iopub.execute_input": "2023-06-08T23:58:43.220665Z",
     "iopub.status.busy": "2023-06-08T23:58:43.220284Z",
     "iopub.status.idle": "2023-06-08T23:58:44.066558Z",
     "shell.execute_reply": "2023-06-08T23:58:44.065532Z"
    },
    "papermill": {
     "duration": 0.854875,
     "end_time": "2023-06-08T23:58:44.068865",
     "exception": false,
     "start_time": "2023-06-08T23:58:43.213990",
     "status": "completed"
    },
    "tags": []
   },
   "outputs": [
    {
     "data": {
      "application/javascript": [
       "parent.postMessage({\"jupyterEvent\": \"custom.exercise_interaction\", \"data\": {\"outcomeType\": 1, \"valueTowardsCompletion\": 0.5, \"interactionType\": 1, \"questionType\": 2, \"questionId\": \"1.1_Model1A\", \"learnToolsVersion\": \"0.3.4\", \"failureMessage\": \"\", \"exceptionClass\": \"\", \"trace\": \"\"}}, \"*\")"
      ],
      "text/plain": [
       "<IPython.core.display.Javascript object>"
      ]
     },
     "metadata": {},
     "output_type": "display_data"
    },
    {
     "data": {
      "text/markdown": [
       "<span style=\"color:#33cc33\">Correct</span>"
      ],
      "text/plain": [
       "Correct"
      ]
     },
     "metadata": {},
     "output_type": "display_data"
    }
   ],
   "source": [
    "from xgboost import XGBRegressor\n",
    "\n",
    "# Define the model\n",
    "my_model_1 = XGBRegressor(random_state=0)\n",
    "\n",
    "# Fit the model\n",
    "my_model_1.fit(X_train, y_train)\n",
    "\n",
    "# Check your answer\n",
    "step_1.a.check()"
   ]
  },
  {
   "cell_type": "code",
   "execution_count": 4,
   "id": "bb29bac3",
   "metadata": {
    "execution": {
     "iopub.execute_input": "2023-06-08T23:58:44.081823Z",
     "iopub.status.busy": "2023-06-08T23:58:44.080975Z",
     "iopub.status.idle": "2023-06-08T23:58:44.085417Z",
     "shell.execute_reply": "2023-06-08T23:58:44.084370Z"
    },
    "papermill": {
     "duration": 0.013159,
     "end_time": "2023-06-08T23:58:44.087584",
     "exception": false,
     "start_time": "2023-06-08T23:58:44.074425",
     "status": "completed"
    },
    "tags": []
   },
   "outputs": [],
   "source": [
    "# Lines below will give you a hint or solution code\n",
    "#step_1.a.hint()\n",
    "#step_1.a.solution()"
   ]
  },
  {
   "cell_type": "markdown",
   "id": "361fe4f3",
   "metadata": {
    "papermill": {
     "duration": 0.005077,
     "end_time": "2023-06-08T23:58:44.097996",
     "exception": false,
     "start_time": "2023-06-08T23:58:44.092919",
     "status": "completed"
    },
    "tags": []
   },
   "source": [
    "### Part B\n",
    "\n",
    "Set `predictions_1` to the model's predictions for the validation data.  Recall that the validation features are stored in `X_valid`."
   ]
  },
  {
   "cell_type": "code",
   "execution_count": 5,
   "id": "45e83944",
   "metadata": {
    "execution": {
     "iopub.execute_input": "2023-06-08T23:58:44.110465Z",
     "iopub.status.busy": "2023-06-08T23:58:44.109711Z",
     "iopub.status.idle": "2023-06-08T23:58:44.132162Z",
     "shell.execute_reply": "2023-06-08T23:58:44.131176Z"
    },
    "papermill": {
     "duration": 0.032188,
     "end_time": "2023-06-08T23:58:44.135491",
     "exception": false,
     "start_time": "2023-06-08T23:58:44.103303",
     "status": "completed"
    },
    "tags": []
   },
   "outputs": [
    {
     "data": {
      "application/javascript": [
       "parent.postMessage({\"jupyterEvent\": \"custom.exercise_interaction\", \"data\": {\"outcomeType\": 1, \"valueTowardsCompletion\": 0.5, \"interactionType\": 1, \"questionType\": 2, \"questionId\": \"1.2_Model1B\", \"learnToolsVersion\": \"0.3.4\", \"failureMessage\": \"\", \"exceptionClass\": \"\", \"trace\": \"\"}}, \"*\")"
      ],
      "text/plain": [
       "<IPython.core.display.Javascript object>"
      ]
     },
     "metadata": {},
     "output_type": "display_data"
    },
    {
     "data": {
      "text/markdown": [
       "<span style=\"color:#33cc33\">Correct</span>"
      ],
      "text/plain": [
       "Correct"
      ]
     },
     "metadata": {},
     "output_type": "display_data"
    }
   ],
   "source": [
    "from sklearn.metrics import mean_absolute_error\n",
    "\n",
    "# Get predictions\n",
    "predictions_1 = my_model_1.predict(X_valid)\n",
    "\n",
    "# Check your answer\n",
    "step_1.b.check()"
   ]
  },
  {
   "cell_type": "code",
   "execution_count": 6,
   "id": "b4ec4520",
   "metadata": {
    "execution": {
     "iopub.execute_input": "2023-06-08T23:58:44.148289Z",
     "iopub.status.busy": "2023-06-08T23:58:44.147910Z",
     "iopub.status.idle": "2023-06-08T23:58:44.152368Z",
     "shell.execute_reply": "2023-06-08T23:58:44.151267Z"
    },
    "papermill": {
     "duration": 0.013275,
     "end_time": "2023-06-08T23:58:44.154474",
     "exception": false,
     "start_time": "2023-06-08T23:58:44.141199",
     "status": "completed"
    },
    "tags": []
   },
   "outputs": [],
   "source": [
    "# Lines below will give you a hint or solution code\n",
    "#step_1.b.hint()\n",
    "#step_1.b.solution()"
   ]
  },
  {
   "cell_type": "markdown",
   "id": "e21bb61f",
   "metadata": {
    "papermill": {
     "duration": 0.005423,
     "end_time": "2023-06-08T23:58:44.165540",
     "exception": false,
     "start_time": "2023-06-08T23:58:44.160117",
     "status": "completed"
    },
    "tags": []
   },
   "source": [
    "### Part C\n",
    "\n",
    "Finally, use the `mean_absolute_error()` function to calculate the mean absolute error (MAE) corresponding to the predictions for the validation set.  Recall that the labels for the validation data are stored in `y_valid`."
   ]
  },
  {
   "cell_type": "code",
   "execution_count": 7,
   "id": "ba7c8236",
   "metadata": {
    "execution": {
     "iopub.execute_input": "2023-06-08T23:58:44.178533Z",
     "iopub.status.busy": "2023-06-08T23:58:44.177794Z",
     "iopub.status.idle": "2023-06-08T23:58:44.188251Z",
     "shell.execute_reply": "2023-06-08T23:58:44.187282Z"
    },
    "papermill": {
     "duration": 0.019289,
     "end_time": "2023-06-08T23:58:44.190377",
     "exception": false,
     "start_time": "2023-06-08T23:58:44.171088",
     "status": "completed"
    },
    "tags": []
   },
   "outputs": [
    {
     "name": "stdout",
     "output_type": "stream",
     "text": [
      "Mean Absolute Error: 17662.736729452055\n"
     ]
    },
    {
     "data": {
      "application/javascript": [
       "parent.postMessage({\"jupyterEvent\": \"custom.exercise_interaction\", \"data\": {\"outcomeType\": 1, \"valueTowardsCompletion\": 0.5, \"interactionType\": 1, \"questionType\": 2, \"questionId\": \"1.3_Model1C\", \"learnToolsVersion\": \"0.3.4\", \"failureMessage\": \"\", \"exceptionClass\": \"\", \"trace\": \"\"}}, \"*\")"
      ],
      "text/plain": [
       "<IPython.core.display.Javascript object>"
      ]
     },
     "metadata": {},
     "output_type": "display_data"
    },
    {
     "data": {
      "text/markdown": [
       "<span style=\"color:#33cc33\">Correct</span>"
      ],
      "text/plain": [
       "Correct"
      ]
     },
     "metadata": {},
     "output_type": "display_data"
    }
   ],
   "source": [
    "# Calculate MAE\n",
    "mae_1 = mean_absolute_error(predictions_1, y_valid)\n",
    "\n",
    "# Uncomment to print MAE\n",
    "print(\"Mean Absolute Error:\" , mae_1)\n",
    "\n",
    "# Check your answer\n",
    "step_1.c.check()"
   ]
  },
  {
   "cell_type": "code",
   "execution_count": 8,
   "id": "c6fb81ab",
   "metadata": {
    "execution": {
     "iopub.execute_input": "2023-06-08T23:58:44.203848Z",
     "iopub.status.busy": "2023-06-08T23:58:44.203436Z",
     "iopub.status.idle": "2023-06-08T23:58:44.208384Z",
     "shell.execute_reply": "2023-06-08T23:58:44.207213Z"
    },
    "papermill": {
     "duration": 0.014338,
     "end_time": "2023-06-08T23:58:44.210590",
     "exception": false,
     "start_time": "2023-06-08T23:58:44.196252",
     "status": "completed"
    },
    "tags": []
   },
   "outputs": [],
   "source": [
    "# Lines below will give you a hint or solution code\n",
    "#step_1.c.hint()\n",
    "#step_1.c.solution()"
   ]
  },
  {
   "cell_type": "markdown",
   "id": "4b75ccce",
   "metadata": {
    "papermill": {
     "duration": 0.00573,
     "end_time": "2023-06-08T23:58:44.222446",
     "exception": false,
     "start_time": "2023-06-08T23:58:44.216716",
     "status": "completed"
    },
    "tags": []
   },
   "source": [
    "# Step 2: Improve the model\n",
    "\n",
    "Now that you've trained a default model as baseline, it's time to tinker with the parameters, to see if you can get better performance!\n",
    "- Begin by setting `my_model_2` to an XGBoost model, using the [XGBRegressor](https://xgboost.readthedocs.io/en/latest/python/python_api.html#xgboost.XGBRegressor) class.  Use what you learned in the previous tutorial to figure out how to change the default parameters (like `n_estimators` and `learning_rate`) to get better results.\n",
    "- Then, fit the model to the training data in `X_train` and `y_train`.\n",
    "- Set `predictions_2` to the model's predictions for the validation data.  Recall that the validation features are stored in `X_valid`.\n",
    "- Finally, use the `mean_absolute_error()` function to calculate the mean absolute error (MAE) corresponding to the predictions on the validation set.  Recall that the labels for the validation data are stored in `y_valid`.\n",
    "\n",
    "In order for this step to be marked correct, your model in `my_model_2` must attain lower MAE than the model in `my_model_1`. "
   ]
  },
  {
   "cell_type": "code",
   "execution_count": 9,
   "id": "0b1bfe3d",
   "metadata": {
    "execution": {
     "iopub.execute_input": "2023-06-08T23:58:44.236581Z",
     "iopub.status.busy": "2023-06-08T23:58:44.235618Z",
     "iopub.status.idle": "2023-06-08T23:58:53.394514Z",
     "shell.execute_reply": "2023-06-08T23:58:53.393383Z"
    },
    "papermill": {
     "duration": 9.168957,
     "end_time": "2023-06-08T23:58:53.397328",
     "exception": false,
     "start_time": "2023-06-08T23:58:44.228371",
     "status": "completed"
    },
    "tags": []
   },
   "outputs": [
    {
     "name": "stdout",
     "output_type": "stream",
     "text": [
      "Mean Absolute Error: 16688.691513270547\n"
     ]
    },
    {
     "data": {
      "application/javascript": [
       "parent.postMessage({\"jupyterEvent\": \"custom.exercise_interaction\", \"data\": {\"outcomeType\": 1, \"valueTowardsCompletion\": 0.5, \"interactionType\": 1, \"questionType\": 2, \"questionId\": \"2_Model2\", \"learnToolsVersion\": \"0.3.4\", \"failureMessage\": \"\", \"exceptionClass\": \"\", \"trace\": \"\"}}, \"*\")"
      ],
      "text/plain": [
       "<IPython.core.display.Javascript object>"
      ]
     },
     "metadata": {},
     "output_type": "display_data"
    },
    {
     "data": {
      "text/markdown": [
       "<span style=\"color:#33cc33\">Correct</span>"
      ],
      "text/plain": [
       "Correct"
      ]
     },
     "metadata": {},
     "output_type": "display_data"
    }
   ],
   "source": [
    "# Define the model\n",
    "my_model_2 = XGBRegressor(n_estimators=1000, learning_rate=0.05)\n",
    "\n",
    "# Fit the model\n",
    "my_model_2.fit(X_train, y_train)\n",
    "\n",
    "# Get predictions\n",
    "predictions_2 = my_model_2.predict(X_valid)\n",
    "\n",
    "# Calculate MAE\n",
    "mae_2 = mean_absolute_error(predictions_2, y_valid)\n",
    "\n",
    "# Uncomment to print MAE\n",
    "print(\"Mean Absolute Error:\" , mae_2)\n",
    "\n",
    "# Check your answer\n",
    "step_2.check()"
   ]
  },
  {
   "cell_type": "code",
   "execution_count": 10,
   "id": "0ba5183d",
   "metadata": {
    "execution": {
     "iopub.execute_input": "2023-06-08T23:58:53.415515Z",
     "iopub.status.busy": "2023-06-08T23:58:53.414237Z",
     "iopub.status.idle": "2023-06-08T23:58:53.420143Z",
     "shell.execute_reply": "2023-06-08T23:58:53.419181Z"
    },
    "papermill": {
     "duration": 0.016813,
     "end_time": "2023-06-08T23:58:53.422845",
     "exception": false,
     "start_time": "2023-06-08T23:58:53.406032",
     "status": "completed"
    },
    "tags": []
   },
   "outputs": [],
   "source": [
    "# Lines below will give you a hint or solution code\n",
    "#step_2.hint()\n",
    "#step_2.solution()"
   ]
  },
  {
   "cell_type": "markdown",
   "id": "df58c156",
   "metadata": {
    "papermill": {
     "duration": 0.009698,
     "end_time": "2023-06-08T23:58:53.440216",
     "exception": false,
     "start_time": "2023-06-08T23:58:53.430518",
     "status": "completed"
    },
    "tags": []
   },
   "source": [
    "# Step 3: Break the model\n",
    "\n",
    "In this step, you will create a model that performs worse than the original model in Step 1.  This will help you to develop your intuition for how to set parameters.  You might even find that you accidentally get better performance, which is ultimately a nice problem to have and a valuable learning experience!\n",
    "- Begin by setting `my_model_3` to an XGBoost model, using the [XGBRegressor](https://xgboost.readthedocs.io/en/latest/python/python_api.html#xgboost.XGBRegressor) class.  Use what you learned in the previous tutorial to figure out how to change the default parameters (like `n_estimators` and `learning_rate`) to design a model to get high MAE.\n",
    "- Then, fit the model to the training data in `X_train` and `y_train`.\n",
    "- Set `predictions_3` to the model's predictions for the validation data.  Recall that the validation features are stored in `X_valid`.\n",
    "- Finally, use the `mean_absolute_error()` function to calculate the mean absolute error (MAE) corresponding to the predictions on the validation set.  Recall that the labels for the validation data are stored in `y_valid`.\n",
    "\n",
    "In order for this step to be marked correct, your model in `my_model_3` must attain higher MAE than the model in `my_model_1`. "
   ]
  },
  {
   "cell_type": "code",
   "execution_count": 11,
   "id": "ed957c86",
   "metadata": {
    "execution": {
     "iopub.execute_input": "2023-06-08T23:58:53.455184Z",
     "iopub.status.busy": "2023-06-08T23:58:53.454491Z",
     "iopub.status.idle": "2023-06-08T23:58:53.506323Z",
     "shell.execute_reply": "2023-06-08T23:58:53.505487Z"
    },
    "papermill": {
     "duration": 0.061461,
     "end_time": "2023-06-08T23:58:53.508293",
     "exception": false,
     "start_time": "2023-06-08T23:58:53.446832",
     "status": "completed"
    },
    "tags": []
   },
   "outputs": [
    {
     "name": "stdout",
     "output_type": "stream",
     "text": [
      "Mean Absolute Error: 127895.0828807256\n"
     ]
    },
    {
     "data": {
      "application/javascript": [
       "parent.postMessage({\"jupyterEvent\": \"custom.exercise_interaction\", \"data\": {\"outcomeType\": 1, \"valueTowardsCompletion\": 0.5, \"interactionType\": 1, \"questionType\": 2, \"questionId\": \"3_Model3\", \"learnToolsVersion\": \"0.3.4\", \"failureMessage\": \"\", \"exceptionClass\": \"\", \"trace\": \"\"}}, \"*\")"
      ],
      "text/plain": [
       "<IPython.core.display.Javascript object>"
      ]
     },
     "metadata": {},
     "output_type": "display_data"
    },
    {
     "data": {
      "text/markdown": [
       "<span style=\"color:#33cc33\">Correct</span>"
      ],
      "text/plain": [
       "Correct"
      ]
     },
     "metadata": {},
     "output_type": "display_data"
    }
   ],
   "source": [
    "# Define the model\n",
    "my_model_3 = XGBRegressor(n_estimators=1)\n",
    "\n",
    "# Fit the model\n",
    "my_model_3.fit(X_train, y_train)\n",
    "\n",
    "# Get predictions\n",
    "predictions_3 = my_model_3.predict(X_valid)\n",
    "\n",
    "# Calculate MAE\n",
    "mae_3 = mean_absolute_error(predictions_3, y_valid)\n",
    "\n",
    "# Uncomment to print MAE\n",
    "print(\"Mean Absolute Error:\" , mae_3)\n",
    "\n",
    "# Check your answer\n",
    "step_3.check()"
   ]
  },
  {
   "cell_type": "code",
   "execution_count": 12,
   "id": "b125d15d",
   "metadata": {
    "execution": {
     "iopub.execute_input": "2023-06-08T23:58:53.523064Z",
     "iopub.status.busy": "2023-06-08T23:58:53.522638Z",
     "iopub.status.idle": "2023-06-08T23:58:53.526975Z",
     "shell.execute_reply": "2023-06-08T23:58:53.525685Z"
    },
    "papermill": {
     "duration": 0.014431,
     "end_time": "2023-06-08T23:58:53.529166",
     "exception": false,
     "start_time": "2023-06-08T23:58:53.514735",
     "status": "completed"
    },
    "tags": []
   },
   "outputs": [],
   "source": [
    "# Lines below will give you a hint or solution code\n",
    "#step_3.hint()\n",
    "#step_3.solution()"
   ]
  },
  {
   "cell_type": "markdown",
   "id": "5f9b56d9",
   "metadata": {
    "papermill": {
     "duration": 0.006183,
     "end_time": "2023-06-08T23:58:53.541885",
     "exception": false,
     "start_time": "2023-06-08T23:58:53.535702",
     "status": "completed"
    },
    "tags": []
   },
   "source": [
    "# Keep going\n",
    "\n",
    "Continue to learn about **[data leakage](https://www.kaggle.com/alexisbcook/data-leakage)**.  This is an important issue for a data scientist to understand, and it has the potential to ruin your models in subtle and dangerous ways!"
   ]
  },
  {
   "cell_type": "markdown",
   "id": "07d7d592",
   "metadata": {
    "papermill": {
     "duration": 0.006074,
     "end_time": "2023-06-08T23:58:53.554517",
     "exception": false,
     "start_time": "2023-06-08T23:58:53.548443",
     "status": "completed"
    },
    "tags": []
   },
   "source": [
    "---\n",
    "\n",
    "\n",
    "\n",
    "\n",
    "*Have questions or comments? Visit the [course discussion forum](https://www.kaggle.com/learn/intermediate-machine-learning/discussion) to chat with other learners.*"
   ]
  }
 ],
 "metadata": {
  "kernelspec": {
   "display_name": "Python 3",
   "language": "python",
   "name": "python3"
  },
  "language_info": {
   "codemirror_mode": {
    "name": "ipython",
    "version": 3
   },
   "file_extension": ".py",
   "mimetype": "text/x-python",
   "name": "python",
   "nbconvert_exporter": "python",
   "pygments_lexer": "ipython3",
   "version": "3.10.10"
  },
  "papermill": {
   "default_parameters": {},
   "duration": 24.198281,
   "end_time": "2023-06-08T23:58:54.583610",
   "environment_variables": {},
   "exception": null,
   "input_path": "__notebook__.ipynb",
   "output_path": "__notebook__.ipynb",
   "parameters": {},
   "start_time": "2023-06-08T23:58:30.385329",
   "version": "2.4.0"
  }
 },
 "nbformat": 4,
 "nbformat_minor": 5
}
