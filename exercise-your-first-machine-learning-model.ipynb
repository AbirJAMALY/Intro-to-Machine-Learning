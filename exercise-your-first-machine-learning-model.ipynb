{
 "cells": [
  {
   "cell_type": "markdown",
   "id": "7b11e3c8",
   "metadata": {
    "papermill": {
     "duration": 0.007464,
     "end_time": "2023-06-08T19:58:28.129798",
     "exception": false,
     "start_time": "2023-06-08T19:58:28.122334",
     "status": "completed"
    },
    "tags": []
   },
   "source": [
    "**This notebook is an exercise in the [Introduction to Machine Learning](https://www.kaggle.com/learn/intro-to-machine-learning) course.  You can reference the tutorial at [this link](https://www.kaggle.com/dansbecker/your-first-machine-learning-model).**\n",
    "\n",
    "---\n"
   ]
  },
  {
   "cell_type": "markdown",
   "id": "324bd654",
   "metadata": {
    "papermill": {
     "duration": 0.00668,
     "end_time": "2023-06-08T19:58:28.143509",
     "exception": false,
     "start_time": "2023-06-08T19:58:28.136829",
     "status": "completed"
    },
    "tags": []
   },
   "source": [
    "## Recap\n",
    "So far, you have loaded your data and reviewed it with the following code. Run this cell to set up your coding environment where the previous step left off."
   ]
  },
  {
   "cell_type": "code",
   "execution_count": 1,
   "id": "da27fa23",
   "metadata": {
    "execution": {
     "iopub.execute_input": "2023-06-08T19:58:28.160434Z",
     "iopub.status.busy": "2023-06-08T19:58:28.159460Z",
     "iopub.status.idle": "2023-06-08T19:58:30.131419Z",
     "shell.execute_reply": "2023-06-08T19:58:30.130234Z"
    },
    "papermill": {
     "duration": 1.984574,
     "end_time": "2023-06-08T19:58:30.135260",
     "exception": false,
     "start_time": "2023-06-08T19:58:28.150686",
     "status": "completed"
    },
    "tags": []
   },
   "outputs": [
    {
     "name": "stdout",
     "output_type": "stream",
     "text": [
      "Setup Complete\n"
     ]
    }
   ],
   "source": [
    "# Code you have previously used to load data\n",
    "import pandas as pd\n",
    "\n",
    "# Path of the file to read\n",
    "iowa_file_path = '../input/home-data-for-ml-course/train.csv'\n",
    "\n",
    "home_data = pd.read_csv(iowa_file_path)\n",
    "\n",
    "# Set up code checking\n",
    "from learntools.core import binder\n",
    "binder.bind(globals())\n",
    "from learntools.machine_learning.ex3 import *\n",
    "\n",
    "print(\"Setup Complete\")"
   ]
  },
  {
   "cell_type": "markdown",
   "id": "f6494067",
   "metadata": {
    "papermill": {
     "duration": 0.007282,
     "end_time": "2023-06-08T19:58:30.149833",
     "exception": false,
     "start_time": "2023-06-08T19:58:30.142551",
     "status": "completed"
    },
    "tags": []
   },
   "source": [
    "# Exercises\n",
    "\n",
    "## Step 1: Specify Prediction Target\n",
    "Select the target variable, which corresponds to the sales price. Save this to a new variable called `y`. You'll need to print a list of the columns to find the name of the column you need.\n"
   ]
  },
  {
   "cell_type": "code",
   "execution_count": 2,
   "id": "6b5455d8",
   "metadata": {
    "execution": {
     "iopub.execute_input": "2023-06-08T19:58:30.165905Z",
     "iopub.status.busy": "2023-06-08T19:58:30.165440Z",
     "iopub.status.idle": "2023-06-08T19:58:30.175121Z",
     "shell.execute_reply": "2023-06-08T19:58:30.173959Z"
    },
    "papermill": {
     "duration": 0.020518,
     "end_time": "2023-06-08T19:58:30.177495",
     "exception": false,
     "start_time": "2023-06-08T19:58:30.156977",
     "status": "completed"
    },
    "tags": []
   },
   "outputs": [
    {
     "data": {
      "text/plain": [
       "Index(['Id', 'MSSubClass', 'MSZoning', 'LotFrontage', 'LotArea', 'Street',\n",
       "       'Alley', 'LotShape', 'LandContour', 'Utilities', 'LotConfig',\n",
       "       'LandSlope', 'Neighborhood', 'Condition1', 'Condition2', 'BldgType',\n",
       "       'HouseStyle', 'OverallQual', 'OverallCond', 'YearBuilt', 'YearRemodAdd',\n",
       "       'RoofStyle', 'RoofMatl', 'Exterior1st', 'Exterior2nd', 'MasVnrType',\n",
       "       'MasVnrArea', 'ExterQual', 'ExterCond', 'Foundation', 'BsmtQual',\n",
       "       'BsmtCond', 'BsmtExposure', 'BsmtFinType1', 'BsmtFinSF1',\n",
       "       'BsmtFinType2', 'BsmtFinSF2', 'BsmtUnfSF', 'TotalBsmtSF', 'Heating',\n",
       "       'HeatingQC', 'CentralAir', 'Electrical', '1stFlrSF', '2ndFlrSF',\n",
       "       'LowQualFinSF', 'GrLivArea', 'BsmtFullBath', 'BsmtHalfBath', 'FullBath',\n",
       "       'HalfBath', 'BedroomAbvGr', 'KitchenAbvGr', 'KitchenQual',\n",
       "       'TotRmsAbvGrd', 'Functional', 'Fireplaces', 'FireplaceQu', 'GarageType',\n",
       "       'GarageYrBlt', 'GarageFinish', 'GarageCars', 'GarageArea', 'GarageQual',\n",
       "       'GarageCond', 'PavedDrive', 'WoodDeckSF', 'OpenPorchSF',\n",
       "       'EnclosedPorch', '3SsnPorch', 'ScreenPorch', 'PoolArea', 'PoolQC',\n",
       "       'Fence', 'MiscFeature', 'MiscVal', 'MoSold', 'YrSold', 'SaleType',\n",
       "       'SaleCondition', 'SalePrice'],\n",
       "      dtype='object')"
      ]
     },
     "execution_count": 2,
     "metadata": {},
     "output_type": "execute_result"
    }
   ],
   "source": [
    "# print the list of columns in the dataset to find the name of the prediction target\n",
    "# list of all columns in the dataset\n",
    "home_data.columns"
   ]
  },
  {
   "cell_type": "code",
   "execution_count": 3,
   "id": "a25b2d81",
   "metadata": {
    "execution": {
     "iopub.execute_input": "2023-06-08T19:58:30.195836Z",
     "iopub.status.busy": "2023-06-08T19:58:30.195385Z",
     "iopub.status.idle": "2023-06-08T19:58:30.213276Z",
     "shell.execute_reply": "2023-06-08T19:58:30.212101Z"
    },
    "papermill": {
     "duration": 0.029283,
     "end_time": "2023-06-08T19:58:30.215920",
     "exception": false,
     "start_time": "2023-06-08T19:58:30.186637",
     "status": "completed"
    },
    "tags": []
   },
   "outputs": [
    {
     "data": {
      "application/javascript": [
       "parent.postMessage({\"jupyterEvent\": \"custom.exercise_interaction\", \"data\": {\"outcomeType\": 1, \"valueTowardsCompletion\": 0.25, \"interactionType\": 1, \"questionType\": 2, \"questionId\": \"1_SetTarget\", \"learnToolsVersion\": \"0.3.4\", \"failureMessage\": \"\", \"exceptionClass\": \"\", \"trace\": \"\"}}, \"*\")"
      ],
      "text/plain": [
       "<IPython.core.display.Javascript object>"
      ]
     },
     "metadata": {},
     "output_type": "display_data"
    },
    {
     "data": {
      "text/markdown": [
       "<span style=\"color:#33cc33\">Correct</span>"
      ],
      "text/plain": [
       "Correct"
      ]
     },
     "metadata": {},
     "output_type": "display_data"
    }
   ],
   "source": [
    "y = home_data.SalePrice\n",
    "\n",
    "# Check your answer\n",
    "step_1.check()"
   ]
  },
  {
   "cell_type": "code",
   "execution_count": 4,
   "id": "241441e8",
   "metadata": {
    "collapsed": true,
    "execution": {
     "iopub.execute_input": "2023-06-08T19:58:30.233297Z",
     "iopub.status.busy": "2023-06-08T19:58:30.232839Z",
     "iopub.status.idle": "2023-06-08T19:58:30.237653Z",
     "shell.execute_reply": "2023-06-08T19:58:30.236465Z"
    },
    "jupyter": {
     "outputs_hidden": true
    },
    "papermill": {
     "duration": 0.016106,
     "end_time": "2023-06-08T19:58:30.239988",
     "exception": false,
     "start_time": "2023-06-08T19:58:30.223882",
     "status": "completed"
    },
    "tags": []
   },
   "outputs": [],
   "source": [
    "# The lines below will show you a hint or the solution.\n",
    "# step_1.hint() \n",
    "# step_1.solution()"
   ]
  },
  {
   "cell_type": "markdown",
   "id": "e43e0361",
   "metadata": {
    "papermill": {
     "duration": 0.007152,
     "end_time": "2023-06-08T19:58:30.254848",
     "exception": false,
     "start_time": "2023-06-08T19:58:30.247696",
     "status": "completed"
    },
    "tags": []
   },
   "source": [
    "## Step 2: Create X\n",
    "Now you will create a DataFrame called `X` holding the predictive features.\n",
    "\n",
    "Since you want only some columns from the original data, you'll first create a list with the names of the columns you want in `X`.\n",
    "\n",
    "You'll use just the following columns in the list (you can copy and paste the whole list to save some typing, though you'll still need to add quotes):\n",
    "  * LotArea\n",
    "  * YearBuilt\n",
    "  * 1stFlrSF\n",
    "  * 2ndFlrSF\n",
    "  * FullBath\n",
    "  * BedroomAbvGr\n",
    "  * TotRmsAbvGrd\n",
    "\n",
    "After you've created that list of features, use it to create the DataFrame that you'll use to fit the model."
   ]
  },
  {
   "cell_type": "code",
   "execution_count": 5,
   "id": "f73f673c",
   "metadata": {
    "execution": {
     "iopub.execute_input": "2023-06-08T19:58:30.271979Z",
     "iopub.status.busy": "2023-06-08T19:58:30.271523Z",
     "iopub.status.idle": "2023-06-08T19:58:30.289170Z",
     "shell.execute_reply": "2023-06-08T19:58:30.288042Z"
    },
    "papermill": {
     "duration": 0.028926,
     "end_time": "2023-06-08T19:58:30.291631",
     "exception": false,
     "start_time": "2023-06-08T19:58:30.262705",
     "status": "completed"
    },
    "tags": []
   },
   "outputs": [
    {
     "data": {
      "application/javascript": [
       "parent.postMessage({\"jupyterEvent\": \"custom.exercise_interaction\", \"data\": {\"outcomeType\": 1, \"valueTowardsCompletion\": 0.25, \"interactionType\": 1, \"questionType\": 2, \"questionId\": \"2_SelectPredictionData\", \"learnToolsVersion\": \"0.3.4\", \"failureMessage\": \"\", \"exceptionClass\": \"\", \"trace\": \"\"}}, \"*\")"
      ],
      "text/plain": [
       "<IPython.core.display.Javascript object>"
      ]
     },
     "metadata": {},
     "output_type": "display_data"
    },
    {
     "data": {
      "text/markdown": [
       "<span style=\"color:#33cc33\">Correct</span>"
      ],
      "text/plain": [
       "Correct"
      ]
     },
     "metadata": {},
     "output_type": "display_data"
    }
   ],
   "source": [
    "# Create the list of features below\n",
    "feature_names = [\"LotArea\", \"YearBuilt\", \"1stFlrSF\", \"2ndFlrSF\", \"FullBath\", \"BedroomAbvGr\", \"TotRmsAbvGrd\"]\n",
    "# Select data corresponding to features in feature_names\n",
    "X = home_data[feature_names]\n",
    "\n",
    "# Check your answer\n",
    "step_2.check()"
   ]
  },
  {
   "cell_type": "code",
   "execution_count": 6,
   "id": "176e9289",
   "metadata": {
    "execution": {
     "iopub.execute_input": "2023-06-08T19:58:30.309592Z",
     "iopub.status.busy": "2023-06-08T19:58:30.309135Z",
     "iopub.status.idle": "2023-06-08T19:58:30.313835Z",
     "shell.execute_reply": "2023-06-08T19:58:30.312673Z"
    },
    "papermill": {
     "duration": 0.016781,
     "end_time": "2023-06-08T19:58:30.316242",
     "exception": false,
     "start_time": "2023-06-08T19:58:30.299461",
     "status": "completed"
    },
    "tags": []
   },
   "outputs": [],
   "source": [
    "# step_2.hint()\n",
    "#step_2.solution()"
   ]
  },
  {
   "cell_type": "markdown",
   "id": "e014002a",
   "metadata": {
    "papermill": {
     "duration": 0.007563,
     "end_time": "2023-06-08T19:58:30.331606",
     "exception": false,
     "start_time": "2023-06-08T19:58:30.324043",
     "status": "completed"
    },
    "tags": []
   },
   "source": [
    "## Review Data\n",
    "Before building a model, take a quick look at **X** to verify it looks sensible"
   ]
  },
  {
   "cell_type": "code",
   "execution_count": 7,
   "id": "ea218a62",
   "metadata": {
    "execution": {
     "iopub.execute_input": "2023-06-08T19:58:30.349642Z",
     "iopub.status.busy": "2023-06-08T19:58:30.348749Z",
     "iopub.status.idle": "2023-06-08T19:58:30.391036Z",
     "shell.execute_reply": "2023-06-08T19:58:30.389864Z"
    },
    "papermill": {
     "duration": 0.054698,
     "end_time": "2023-06-08T19:58:30.394201",
     "exception": false,
     "start_time": "2023-06-08T19:58:30.339503",
     "status": "completed"
    },
    "tags": []
   },
   "outputs": [
    {
     "name": "stdout",
     "output_type": "stream",
     "text": [
      "             LotArea    YearBuilt     1stFlrSF     2ndFlrSF     FullBath  \\\n",
      "count    1460.000000  1460.000000  1460.000000  1460.000000  1460.000000   \n",
      "mean    10516.828082  1971.267808  1162.626712   346.992466     1.565068   \n",
      "std      9981.264932    30.202904   386.587738   436.528436     0.550916   \n",
      "min      1300.000000  1872.000000   334.000000     0.000000     0.000000   \n",
      "25%      7553.500000  1954.000000   882.000000     0.000000     1.000000   \n",
      "50%      9478.500000  1973.000000  1087.000000     0.000000     2.000000   \n",
      "75%     11601.500000  2000.000000  1391.250000   728.000000     2.000000   \n",
      "max    215245.000000  2010.000000  4692.000000  2065.000000     3.000000   \n",
      "\n",
      "       BedroomAbvGr  TotRmsAbvGrd  \n",
      "count   1460.000000   1460.000000  \n",
      "mean       2.866438      6.517808  \n",
      "std        0.815778      1.625393  \n",
      "min        0.000000      2.000000  \n",
      "25%        2.000000      5.000000  \n",
      "50%        3.000000      6.000000  \n",
      "75%        3.000000      7.000000  \n",
      "max        8.000000     14.000000  \n",
      "-------------------------------------\n",
      "   LotArea  YearBuilt  1stFlrSF  2ndFlrSF  FullBath  BedroomAbvGr  \\\n",
      "0     8450       2003       856       854         2             3   \n",
      "1     9600       1976      1262         0         2             3   \n",
      "2    11250       2001       920       866         2             3   \n",
      "3     9550       1915       961       756         1             3   \n",
      "4    14260       2000      1145      1053         2             4   \n",
      "\n",
      "   TotRmsAbvGrd  \n",
      "0             8  \n",
      "1             6  \n",
      "2             6  \n",
      "3             7  \n",
      "4             9  \n"
     ]
    }
   ],
   "source": [
    "# Review data\n",
    "# print description or statistics from X\n",
    "print(X.describe())\n",
    "print ('-------------------------------------')\n",
    "# print the top few lines\n",
    "print(X.head())"
   ]
  },
  {
   "cell_type": "markdown",
   "id": "c16f7c7a",
   "metadata": {
    "papermill": {
     "duration": 0.008309,
     "end_time": "2023-06-08T19:58:30.410671",
     "exception": false,
     "start_time": "2023-06-08T19:58:30.402362",
     "status": "completed"
    },
    "tags": []
   },
   "source": [
    "## Step 3: Specify and Fit Model\n",
    "Create a `DecisionTreeRegressor` and save it iowa_model. Ensure you've done the relevant import from sklearn to run this command.\n",
    "\n",
    "Then fit the model you just created using the data in `X` and `y` that you saved above."
   ]
  },
  {
   "cell_type": "code",
   "execution_count": 8,
   "id": "de718c3e",
   "metadata": {
    "execution": {
     "iopub.execute_input": "2023-06-08T19:58:30.430399Z",
     "iopub.status.busy": "2023-06-08T19:58:30.429663Z",
     "iopub.status.idle": "2023-06-08T19:58:30.451661Z",
     "shell.execute_reply": "2023-06-08T19:58:30.450505Z"
    },
    "papermill": {
     "duration": 0.03447,
     "end_time": "2023-06-08T19:58:30.454084",
     "exception": false,
     "start_time": "2023-06-08T19:58:30.419614",
     "status": "completed"
    },
    "tags": []
   },
   "outputs": [
    {
     "data": {
      "application/javascript": [
       "parent.postMessage({\"jupyterEvent\": \"custom.exercise_interaction\", \"data\": {\"outcomeType\": 1, \"valueTowardsCompletion\": 0.25, \"interactionType\": 1, \"questionType\": 2, \"questionId\": \"3_CreateModel\", \"learnToolsVersion\": \"0.3.4\", \"failureMessage\": \"\", \"exceptionClass\": \"\", \"trace\": \"\"}}, \"*\")"
      ],
      "text/plain": [
       "<IPython.core.display.Javascript object>"
      ]
     },
     "metadata": {},
     "output_type": "display_data"
    },
    {
     "data": {
      "text/markdown": [
       "<span style=\"color:#33cc33\">Correct</span>"
      ],
      "text/plain": [
       "Correct"
      ]
     },
     "metadata": {},
     "output_type": "display_data"
    }
   ],
   "source": [
    "from sklearn.tree import DecisionTreeRegressor\n",
    "\n",
    "#specify the model. \n",
    "#For model reproducibility, set a numeric value for random_state when specifying the model\n",
    "iowa_model = DecisionTreeRegressor(random_state=1)\n",
    "\n",
    "# Fit model\n",
    "iowa_model.fit(X, y)\n",
    "\n",
    "\n",
    "# Check your answer\n",
    "step_3.check()"
   ]
  },
  {
   "cell_type": "code",
   "execution_count": 9,
   "id": "471cfa92",
   "metadata": {
    "collapsed": true,
    "execution": {
     "iopub.execute_input": "2023-06-08T19:58:30.472990Z",
     "iopub.status.busy": "2023-06-08T19:58:30.472290Z",
     "iopub.status.idle": "2023-06-08T19:58:30.476952Z",
     "shell.execute_reply": "2023-06-08T19:58:30.476096Z"
    },
    "jupyter": {
     "outputs_hidden": true
    },
    "papermill": {
     "duration": 0.016915,
     "end_time": "2023-06-08T19:58:30.479290",
     "exception": false,
     "start_time": "2023-06-08T19:58:30.462375",
     "status": "completed"
    },
    "tags": []
   },
   "outputs": [],
   "source": [
    "# step_3.hint()\n",
    "# step_3.solution()"
   ]
  },
  {
   "cell_type": "markdown",
   "id": "19ec6fdb",
   "metadata": {
    "papermill": {
     "duration": 0.008143,
     "end_time": "2023-06-08T19:58:30.495987",
     "exception": false,
     "start_time": "2023-06-08T19:58:30.487844",
     "status": "completed"
    },
    "tags": []
   },
   "source": [
    "## Step 4: Make Predictions\n",
    "Make predictions with the model's `predict` command using `X` as the data. Save the results to a variable called `predictions`."
   ]
  },
  {
   "cell_type": "code",
   "execution_count": 10,
   "id": "4a233530",
   "metadata": {
    "execution": {
     "iopub.execute_input": "2023-06-08T19:58:30.515283Z",
     "iopub.status.busy": "2023-06-08T19:58:30.514531Z",
     "iopub.status.idle": "2023-06-08T19:58:30.530394Z",
     "shell.execute_reply": "2023-06-08T19:58:30.529256Z"
    },
    "papermill": {
     "duration": 0.028645,
     "end_time": "2023-06-08T19:58:30.533105",
     "exception": false,
     "start_time": "2023-06-08T19:58:30.504460",
     "status": "completed"
    },
    "tags": []
   },
   "outputs": [
    {
     "name": "stdout",
     "output_type": "stream",
     "text": [
      "[208500. 181500. 223500. ... 266500. 142125. 147500.]\n"
     ]
    },
    {
     "data": {
      "application/javascript": [
       "parent.postMessage({\"jupyterEvent\": \"custom.exercise_interaction\", \"data\": {\"outcomeType\": 1, \"valueTowardsCompletion\": 0.25, \"interactionType\": 1, \"questionType\": 2, \"questionId\": \"4_MakePredictions\", \"learnToolsVersion\": \"0.3.4\", \"failureMessage\": \"\", \"exceptionClass\": \"\", \"trace\": \"\"}}, \"*\")"
      ],
      "text/plain": [
       "<IPython.core.display.Javascript object>"
      ]
     },
     "metadata": {},
     "output_type": "display_data"
    },
    {
     "data": {
      "text/markdown": [
       "<span style=\"color:#33cc33\">Correct</span>"
      ],
      "text/plain": [
       "Correct"
      ]
     },
     "metadata": {},
     "output_type": "display_data"
    }
   ],
   "source": [
    "predictions = iowa_model.predict(X)\n",
    "print(predictions)\n",
    "\n",
    "# Check your answer\n",
    "step_4.check()"
   ]
  },
  {
   "cell_type": "code",
   "execution_count": 11,
   "id": "321b8433",
   "metadata": {
    "execution": {
     "iopub.execute_input": "2023-06-08T19:58:30.552617Z",
     "iopub.status.busy": "2023-06-08T19:58:30.552156Z",
     "iopub.status.idle": "2023-06-08T19:58:30.556729Z",
     "shell.execute_reply": "2023-06-08T19:58:30.555489Z"
    },
    "papermill": {
     "duration": 0.017469,
     "end_time": "2023-06-08T19:58:30.559268",
     "exception": false,
     "start_time": "2023-06-08T19:58:30.541799",
     "status": "completed"
    },
    "tags": []
   },
   "outputs": [],
   "source": [
    "# step_4.hint()\n",
    "#step_4.solution()"
   ]
  },
  {
   "cell_type": "markdown",
   "id": "c2dfd1ea",
   "metadata": {
    "papermill": {
     "duration": 0.008617,
     "end_time": "2023-06-08T19:58:30.577162",
     "exception": false,
     "start_time": "2023-06-08T19:58:30.568545",
     "status": "completed"
    },
    "tags": []
   },
   "source": [
    "## Think About Your Results\n",
    "\n",
    "Use the `head` method to compare the top few predictions to the actual home values (in `y`) for those same homes. Anything surprising?\n"
   ]
  },
  {
   "cell_type": "code",
   "execution_count": 12,
   "id": "3fb2ecf8",
   "metadata": {
    "execution": {
     "iopub.execute_input": "2023-06-08T19:58:30.597507Z",
     "iopub.status.busy": "2023-06-08T19:58:30.597021Z",
     "iopub.status.idle": "2023-06-08T19:58:30.611016Z",
     "shell.execute_reply": "2023-06-08T19:58:30.609235Z"
    },
    "papermill": {
     "duration": 0.027874,
     "end_time": "2023-06-08T19:58:30.613701",
     "exception": false,
     "start_time": "2023-06-08T19:58:30.585827",
     "status": "completed"
    },
    "tags": []
   },
   "outputs": [
    {
     "name": "stdout",
     "output_type": "stream",
     "text": [
      "Making predictions for the following 5 houses:\n",
      "   LotArea  YearBuilt  1stFlrSF  2ndFlrSF  FullBath  BedroomAbvGr  \\\n",
      "0     8450       2003       856       854         2             3   \n",
      "1     9600       1976      1262         0         2             3   \n",
      "2    11250       2001       920       866         2             3   \n",
      "3     9550       1915       961       756         1             3   \n",
      "4    14260       2000      1145      1053         2             4   \n",
      "\n",
      "   TotRmsAbvGrd  \n",
      "0             8  \n",
      "1             6  \n",
      "2             6  \n",
      "3             7  \n",
      "4             9  \n",
      "The predictions are\n",
      "[208500. 181500. 223500. 140000. 250000.]\n",
      "Actual home values:\n",
      "0    208500\n",
      "1    181500\n",
      "2    223500\n",
      "3    140000\n",
      "4    250000\n",
      "Name: SalePrice, dtype: int64\n"
     ]
    }
   ],
   "source": [
    "# You can write code in this cell\n",
    "print(\"Making predictions for the following 5 houses:\")\n",
    "print(X.head())\n",
    "print(\"The predictions are\")\n",
    "print(iowa_model.predict(X.head()))\n",
    "print(\"Actual home values:\")\n",
    "print(y.head())"
   ]
  },
  {
   "cell_type": "markdown",
   "id": "cd7c6b8c",
   "metadata": {
    "papermill": {
     "duration": 0.008656,
     "end_time": "2023-06-08T19:58:30.631701",
     "exception": false,
     "start_time": "2023-06-08T19:58:30.623045",
     "status": "completed"
    },
    "tags": []
   },
   "source": [
    "It's natural to ask how accurate the model's predictions will be and how you can improve that. That will be you're next step.\n",
    "\n",
    "# Keep Going\n",
    "\n",
    "You are ready for **[Model Validation](https://www.kaggle.com/dansbecker/model-validation).**\n"
   ]
  },
  {
   "cell_type": "markdown",
   "id": "ed907205",
   "metadata": {
    "papermill": {
     "duration": 0.008513,
     "end_time": "2023-06-08T19:58:30.649313",
     "exception": false,
     "start_time": "2023-06-08T19:58:30.640800",
     "status": "completed"
    },
    "tags": []
   },
   "source": [
    "---\n",
    "\n",
    "\n",
    "\n",
    "\n",
    "*Have questions or comments? Visit the [course discussion forum](https://www.kaggle.com/learn/intro-to-machine-learning/discussion) to chat with other learners.*"
   ]
  }
 ],
 "metadata": {
  "kernelspec": {
   "display_name": "Python 3",
   "language": "python",
   "name": "python3"
  },
  "language_info": {
   "codemirror_mode": {
    "name": "ipython",
    "version": 3
   },
   "file_extension": ".py",
   "mimetype": "text/x-python",
   "name": "python",
   "nbconvert_exporter": "python",
   "pygments_lexer": "ipython3",
   "version": "3.10.10"
  },
  "papermill": {
   "default_parameters": {},
   "duration": 17.150964,
   "end_time": "2023-06-08T19:58:31.882747",
   "environment_variables": {},
   "exception": null,
   "input_path": "__notebook__.ipynb",
   "output_path": "__notebook__.ipynb",
   "parameters": {},
   "start_time": "2023-06-08T19:58:14.731783",
   "version": "2.4.0"
  }
 },
 "nbformat": 4,
 "nbformat_minor": 5
}
